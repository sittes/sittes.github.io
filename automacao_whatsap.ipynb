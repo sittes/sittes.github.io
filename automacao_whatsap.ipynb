{
 "cells": [
  {
   "cell_type": "code",
   "execution_count": 21,
   "source": [
    "import webbrowser\r\n",
    "import pyautogui\r\n",
    "import time\r\n",
    "\r\n",
    "webbrowser.open('https://web.whatsapp.com/')\r\n",
    "\r\n",
    "time.sleep(10)\r\n",
    "#print(pyautogui.position())\r\n",
    "\r\n",
    "#butao de pesquisar\r\n",
    "pyautogui.click(500, 242)\r\n",
    "pyautogui.typewrite('nome da pessoa')\r\n",
    "\r\n",
    "\r\n",
    "time.sleep(10)\r\n",
    "\r\n",
    "#clique na pessoa\r\n",
    "pyautogui.click(126, 417)\r\n",
    "\r\n",
    "time.sleep(5)\r\n",
    "\r\n",
    "#digita a messagem para a pessoas\r\n",
    "pyautogui.typewrite('menssagem para pessoa!')\r\n",
    "\r\n",
    "\r\n",
    "time.sleep(2)\r\n",
    "\r\n",
    "#digita o nome da pessoa\r\n",
    "pyautogui.press('enter')\r\n",
    "\r\n",
    "\r\n",
    "\r\n",
    "\r\n",
    "\r\n",
    "\r\n",
    "\r\n",
    "\r\n",
    "\r\n",
    "\r\n",
    "\r\n",
    "\r\n"
   ],
   "outputs": [
    {
     "output_type": "stream",
     "name": "stdout",
     "text": [
      "Point(x=396, y=242)\n"
     ]
    }
   ],
   "metadata": {}
  }
 ],
 "metadata": {
  "kernelspec": {
   "name": "python3",
   "display_name": "Python 3.9.7 64-bit"
  },
  "language_info": {
   "codemirror_mode": {
    "name": "ipython",
    "version": 3
   },
   "file_extension": ".py",
   "mimetype": "text/x-python",
   "name": "python",
   "nbconvert_exporter": "python",
   "pygments_lexer": "ipython3",
   "version": "3.9.7"
  },
  "interpreter": {
   "hash": "38b793b8f25e63e9e5212187737055e6c45336f01190fa9ea16de7e3bc67b8f4"
  }
 },
 "nbformat": 4,
 "nbformat_minor": 5
}